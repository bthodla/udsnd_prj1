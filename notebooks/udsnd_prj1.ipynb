{
 "cells": [
  {
   "cell_type": "code",
   "execution_count": 2,
   "id": "1b77b18c",
   "metadata": {},
   "outputs": [],
   "source": [
    "import pandas as pd\n",
    "import terality as tr\n",
    "import json\n",
    "import time\n",
    "from datetime import datetime\n",
    "import pyarrow.parquet as pq"
   ]
  },
  {
   "cell_type": "code",
   "execution_count": 3,
   "outputs": [],
   "source": [
    "f = open('..\\\\conf\\\\sales_conf.json')\n",
    "conf_data = json.load(f)\n"
   ],
   "metadata": {
    "collapsed": false,
    "pycharm": {
     "name": "#%%\n"
    }
   }
  },
  {
   "cell_type": "code",
   "execution_count": 4,
   "outputs": [
    {
     "name": "stdout",
     "output_type": "stream",
     "text": [
      "..\\\\data\\\\\n",
      "pd.\n",
      "tr.\n",
      "{'table_name': 'contact', 'file_name': 'contact.parquet', 'file_type': 'PARQUET', 'raw_df': 'contact_df_raw', 'index_col': 'contact_id', 'indexed_df': 'contact_df', 'load_func': 'read_parquet'}\n",
      "{'table_name': 'customer', 'file_name': 'customer.parquet', 'file_type': 'PARQUET', 'raw_df': 'customer_df_raw', 'index_col': 'customer_id', 'indexed_df': 'customer_df', 'load_func': 'read_parquet'}\n",
      "{'table_name': 'product', 'file_name': 'product.json', 'file_type': 'JSON', 'raw_df': 'product_df_raw', 'index_col': 'product_id', 'indexed_df': 'product_df', 'load_func': 'read_json'}\n",
      "{'table_name': 'state', 'file_name': 'state.parquet', 'file_type': 'PARQUET', 'raw_df': 'state_df_raw', 'index_col': 'state_code', 'indexed_df': 'state_df', 'load_func': 'read_parquet'}\n",
      "{'table_name': 'txn', 'file_name': 'txn.csv', 'file_type': 'CSV', 'raw_df': 'txn_df_raw', 'index_col': 'txn_id', 'indexed_df': 'txn_df', 'load_func': 'read_csv'}\n",
      "{'table_name': 'touch', 'file_name': 'touch.parquet', 'file_type': 'PARQUET', 'raw_df': 'touch_df_raw', 'index_col': 'txn_id', 'indexed_df': 'touch_df', 'load_func': 'read_parquet'}\n"
     ]
    }
   ],
   "source": [
    "print(conf_data[\"file_path\"])\n",
    "print(conf_data[\"pandas_module\"])\n",
    "print(conf_data[\"terality_module\"])\n",
    "\n",
    "for i in conf_data[\"tables\"]:\n",
    "    print(i)"
   ],
   "metadata": {
    "collapsed": false,
    "pycharm": {
     "name": "#%%\n"
    }
   }
  },
  {
   "cell_type": "code",
   "execution_count": 5,
   "outputs": [],
   "source": [
    "raw_pdf = {}\n",
    "indexed_pdf = {}\n",
    "\n",
    "raw_tdf = {}\n",
    "indexed_tdf = {}"
   ],
   "metadata": {
    "collapsed": false,
    "pycharm": {
     "name": "#%%\n"
    }
   }
  },
  {
   "cell_type": "code",
   "execution_count": 6,
   "outputs": [],
   "source": [
    "def get_time():\n",
    "    return datetime.now()"
   ],
   "metadata": {
    "collapsed": false,
    "pycharm": {
     "name": "#%%\n"
    }
   }
  },
  {
   "cell_type": "code",
   "execution_count": 7,
   "outputs": [],
   "source": [
    "def get_time_diff(start_timestamp, end_timestamp):\n",
    "    return (end_time - start_time).total_seconds()"
   ],
   "metadata": {
    "collapsed": false,
    "pycharm": {
     "name": "#%%\n"
    }
   }
  },
  {
   "cell_type": "code",
   "execution_count": 8,
   "outputs": [
    {
     "name": "stdout",
     "output_type": "stream",
     "text": [
      "1.06093\n"
     ]
    }
   ],
   "source": [
    "# Loading data into dataframes using Pandas\n",
    "start_time = get_time()\n",
    "\n",
    "for i in conf_data[\"tables\"]:\n",
    "    raw_pdf[i[\"raw_df\"]] = eval(conf_data[\"pandas_module\"] + i[\"load_func\"] + \"('\" + conf_data[\"file_path\"] + i[\"file_name\"] + \"')\")\n",
    "\n",
    "end_time = get_time()\n",
    "print(get_time_diff(start_time, end_time))"
   ],
   "metadata": {
    "collapsed": false,
    "pycharm": {
     "name": "#%%\n"
    }
   }
  },
  {
   "cell_type": "code",
   "execution_count": 12,
   "outputs": [
    {
     "name": "stdout",
     "output_type": "stream",
     "text": [
      "Key:  contact_df_raw\n",
      "<class 'pandas.core.frame.DataFrame'>\n",
      "Key:  customer_df_raw\n",
      "<class 'pandas.core.frame.DataFrame'>\n",
      "Key:  product_df_raw\n",
      "<class 'pandas.core.frame.DataFrame'>\n",
      "Key:  state_df_raw\n",
      "<class 'pandas.core.frame.DataFrame'>\n",
      "Key:  txn_df_raw\n",
      "<class 'pandas.core.frame.DataFrame'>\n",
      "Key:  touch_df_raw\n",
      "<class 'pandas.core.frame.DataFrame'>\n"
     ]
    }
   ],
   "source": [
    "for key, value in raw_pdf.items():\n",
    "    print(\"Key: \", key)\n",
    "    print(type(value))\n"
   ],
   "metadata": {
    "collapsed": false,
    "pycharm": {
     "name": "#%%\n"
    }
   }
  },
  {
   "cell_type": "code",
   "execution_count": 9,
   "outputs": [
    {
     "name": "stderr",
     "output_type": "stream",
     "text": [
      "..\\data\\contact.parquet:   0%|          | 0.00/6.68M [00:01<?, ?B/s]\n",
      "INFO:terality:The result of te.read_parquet was retrieved from cache [docs: https://docs.terality.com/getting-terality/user-guide/caching].\n",
      "..\\data\\customer.parquet:   0%|          | 0.00/94.9k [00:00<?, ?B/s]\n",
      "INFO:terality:The result of te.read_parquet was retrieved from cache [docs: https://docs.terality.com/getting-terality/user-guide/caching].\n",
      "..\\data\\product.json:   0%|          | 0.00/79.9k [00:00<?, ?B/s]\n",
      "INFO:terality:The result of te.read_json was retrieved from cache [docs: https://docs.terality.com/getting-terality/user-guide/caching].\n",
      "..\\data\\state.parquet:   0%|          | 0.00/3.18k [00:00<?, ?B/s]\n",
      "INFO:terality:The result of te.read_parquet was retrieved from cache [docs: https://docs.terality.com/getting-terality/user-guide/caching].\n",
      "..\\data\\txn.csv:   0%|          | 0.00/51.4M [00:00<?, ?B/s]\n",
      "INFO:terality:The result of te.read_csv was retrieved from cache [docs: https://docs.terality.com/getting-terality/user-guide/caching].\n",
      "..\\data\\touch.parquet:   0%|          | 0.00/219k [00:00<?, ?B/s]\n",
      "INFO:terality:The result of te.read_parquet was retrieved from cache [docs: https://docs.terality.com/getting-terality/user-guide/caching].\n"
     ]
    },
    {
     "name": "stdout",
     "output_type": "stream",
     "text": [
      "5.731588\n"
     ]
    }
   ],
   "source": [
    "# Loading data into dataframes using Pandas\n",
    "start_time = get_time()\n",
    "\n",
    "for i in conf_data[\"tables\"]:\n",
    "    raw_tdf[i[\"raw_df\"]] = eval(conf_data[\"terality_module\"] + i[\"load_func\"] + \"('\" + conf_data[\"file_path\"] + i[\"file_name\"] + \"')\")\n",
    "\n",
    "end_time = get_time()\n",
    "print(get_time_diff(start_time, end_time))"
   ],
   "metadata": {
    "collapsed": false,
    "pycharm": {
     "name": "#%%\n"
    }
   }
  },
  {
   "cell_type": "code",
   "execution_count": 36,
   "outputs": [
    {
     "name": "stdout",
     "output_type": "stream",
     "text": [
      "Key:  contact_df_raw\n",
      "<class 'terality._terality.terality_structures.dataframe.DataFrame'>\n",
      "Key:  customer_df_raw\n",
      "<class 'terality._terality.terality_structures.dataframe.DataFrame'>\n",
      "Key:  product_df_raw\n",
      "<class 'terality._terality.terality_structures.dataframe.DataFrame'>\n",
      "Key:  state_df_raw\n",
      "<class 'terality._terality.terality_structures.dataframe.DataFrame'>\n",
      "Key:  txn_df_raw\n",
      "<class 'terality._terality.terality_structures.dataframe.DataFrame'>\n",
      "Key:  touch_df_raw\n",
      "<class 'terality._terality.terality_structures.dataframe.DataFrame'>\n"
     ]
    }
   ],
   "source": [
    "for key, value in raw_tdf.items():\n",
    "    print(\"Key: \", key)\n",
    "    print(type(value))\n"
   ],
   "metadata": {
    "collapsed": false,
    "pycharm": {
     "name": "#%%\n"
    }
   }
  },
  {
   "cell_type": "code",
   "execution_count": 10,
   "outputs": [
    {
     "name": "stdout",
     "output_type": "stream",
     "text": [
      "0.032594\n"
     ]
    }
   ],
   "source": [
    "# Setting Index columns using Pandas\n",
    "start_time = get_time()\n",
    "\n",
    "for i in conf_data[\"tables\"]:\n",
    "    indexed_pdf[i[\"indexed_df\"]] = raw_pdf[i[\"raw_df\"]].set_index(i[\"index_col\"])\n",
    "\n",
    "end_time = get_time()\n",
    "print(get_time_diff(start_time, end_time))"
   ],
   "metadata": {
    "collapsed": false,
    "pycharm": {
     "name": "#%%\n"
    }
   }
  },
  {
   "cell_type": "code",
   "execution_count": 37,
   "outputs": [
    {
     "name": "stdout",
     "output_type": "stream",
     "text": [
      "Key:  contact_df\n",
      "<class 'pandas.core.frame.DataFrame'>\n",
      "Key:  customer_df\n",
      "<class 'pandas.core.frame.DataFrame'>\n",
      "Key:  product_df\n",
      "<class 'pandas.core.frame.DataFrame'>\n",
      "Key:  state_df\n",
      "<class 'pandas.core.frame.DataFrame'>\n",
      "Key:  txn_df\n",
      "<class 'pandas.core.frame.DataFrame'>\n",
      "Key:  touch_df\n",
      "<class 'pandas.core.frame.DataFrame'>\n"
     ]
    }
   ],
   "source": [
    "for key, value in indexed_pdf.items():\n",
    "    print(\"Key: \", key)\n",
    "    print(type(value))\n"
   ],
   "metadata": {
    "collapsed": false,
    "pycharm": {
     "name": "#%%\n"
    }
   }
  },
  {
   "cell_type": "code",
   "execution_count": 11,
   "outputs": [
    {
     "name": "stderr",
     "output_type": "stream",
     "text": [
      "INFO:terality:The result of te.dataframe.set_index was retrieved from cache [docs: https://docs.terality.com/getting-terality/user-guide/caching].\n",
      "INFO:terality:The result of te.dataframe.set_index was retrieved from cache [docs: https://docs.terality.com/getting-terality/user-guide/caching].\n",
      "INFO:terality:The result of te.dataframe.set_index was retrieved from cache [docs: https://docs.terality.com/getting-terality/user-guide/caching].\n",
      "INFO:terality:The result of te.dataframe.set_index was retrieved from cache [docs: https://docs.terality.com/getting-terality/user-guide/caching].\n",
      "INFO:terality:The result of te.dataframe.set_index was retrieved from cache [docs: https://docs.terality.com/getting-terality/user-guide/caching].\n",
      "INFO:terality:The result of te.dataframe.set_index was retrieved from cache [docs: https://docs.terality.com/getting-terality/user-guide/caching].\n"
     ]
    },
    {
     "name": "stdout",
     "output_type": "stream",
     "text": [
      "1.96175\n"
     ]
    }
   ],
   "source": [
    "# Setting Index columns using Terality\n",
    "start_time = get_time()\n",
    "\n",
    "for i in conf_data[\"tables\"]:\n",
    "    indexed_tdf[i[\"indexed_df\"]] = raw_tdf[i[\"raw_df\"]].set_index(i[\"index_col\"])\n",
    "\n",
    "end_time = get_time()\n",
    "print(get_time_diff(start_time, end_time))"
   ],
   "metadata": {
    "collapsed": false,
    "pycharm": {
     "name": "#%%\n"
    }
   }
  },
  {
   "cell_type": "code",
   "execution_count": 38,
   "outputs": [
    {
     "name": "stdout",
     "output_type": "stream",
     "text": [
      "Key:  contact_df\n",
      "<class 'terality._terality.terality_structures.dataframe.DataFrame'>\n",
      "Key:  customer_df\n",
      "<class 'terality._terality.terality_structures.dataframe.DataFrame'>\n",
      "Key:  product_df\n",
      "<class 'terality._terality.terality_structures.dataframe.DataFrame'>\n",
      "Key:  state_df\n",
      "<class 'terality._terality.terality_structures.dataframe.DataFrame'>\n",
      "Key:  txn_df\n",
      "<class 'terality._terality.terality_structures.dataframe.DataFrame'>\n",
      "Key:  touch_df\n",
      "<class 'terality._terality.terality_structures.dataframe.DataFrame'>\n"
     ]
    }
   ],
   "source": [
    "for key, value in indexed_tdf.items():\n",
    "    print(\"Key: \", key)\n",
    "    print(type(value))\n"
   ],
   "metadata": {
    "collapsed": false,
    "pycharm": {
     "name": "#%%\n"
    }
   }
  },
  {
   "cell_type": "code",
   "execution_count": 13,
   "outputs": [
    {
     "name": "stdout",
     "output_type": "stream",
     "text": [
      "139.023633\n"
     ]
    }
   ],
   "source": [
    "# Sum a column value across the entire dataframe with about 200k rows - using Pandas\n",
    "start_time = get_time()\n",
    "raw_pdf['contact_df_raw'].sum()['opportunity']\n",
    "end_time = get_time()\n",
    "\n",
    "print(get_time_diff(start_time, end_time))"
   ],
   "metadata": {
    "collapsed": false,
    "pycharm": {
     "name": "#%%\n"
    }
   }
  },
  {
   "cell_type": "code",
   "execution_count": 14,
   "outputs": [
    {
     "name": "stderr",
     "output_type": "stream",
     "text": [
      "WARNING:urllib3.connectionpool:Retrying (Retry(total=2, connect=None, read=None, redirect=40, status=None)) after connection broken by 'ProtocolError('Connection aborted.', ConnectionResetError(10054, 'An existing connection was forcibly closed by the remote host', None, 10054, None))': /v1/transfers\n"
     ]
    },
    {
     "name": "stdout",
     "output_type": "stream",
     "text": [
      "33.84886\n"
     ]
    }
   ],
   "source": [
    "# Sum a column value across the entire dataframe with about 200k rows - using Terality\n",
    "start_time = get_time()\n",
    "raw_tdf['contact_df_raw'].sum()['opportunity']\n",
    "end_time = get_time()\n",
    "\n",
    "print(get_time_diff(start_time, end_time))"
   ],
   "metadata": {
    "collapsed": false,
    "pycharm": {
     "name": "#%%\n"
    }
   }
  },
  {
   "cell_type": "code",
   "execution_count": 15,
   "outputs": [
    {
     "name": "stdout",
     "output_type": "stream",
     "text": [
      "Net Txn Amount:  19673120943.690998\n",
      "2813.992782\n"
     ]
    }
   ],
   "source": [
    "# Sum a column value across the entire dataframe with about 1M rows - using Pandas\n",
    "start_time = get_time()\n",
    "net_txn_amount = raw_pdf['txn_df_raw'].sum()['sales']\n",
    "print(\"Net Txn Amount: \", net_txn_amount)\n",
    "end_time = get_time()\n",
    "\n",
    "print(get_time_diff(start_time, end_time))"
   ],
   "metadata": {
    "collapsed": false,
    "pycharm": {
     "name": "#%%\n"
    }
   }
  },
  {
   "cell_type": "code",
   "execution_count": 16,
   "outputs": [
    {
     "name": "stdout",
     "output_type": "stream",
     "text": [
      "Net Txn Amount:  19673120943.691\n",
      "42.772839\n"
     ]
    }
   ],
   "source": [
    "# Sum a column value across the entire dataframe with about 1M rows - using Terality\n",
    "start_time = get_time()\n",
    "net_txn_amount = raw_tdf['txn_df_raw'].sum()['sales']\n",
    "print(\"Net Txn Amount: \", net_txn_amount)\n",
    "end_time = get_time()\n",
    "\n",
    "print(get_time_diff(start_time, end_time))"
   ],
   "metadata": {
    "collapsed": false,
    "pycharm": {
     "name": "#%%\n"
    }
   }
  },
  {
   "cell_type": "code",
   "execution_count": 17,
   "outputs": [
    {
     "name": "stdout",
     "output_type": "stream",
     "text": [
      "0.242996\n"
     ]
    }
   ],
   "source": [
    "# Sum an column value across the entire dataframe with about 1M rows - using Pandas\n",
    "start_time = get_time()\n",
    "raw_pdf['txn_df_raw'].groupby('contact_id').sum()[['sales'] + ['redemptions']]\n",
    "end_time = get_time()\n",
    "\n",
    "print(get_time_diff(start_time, end_time))"
   ],
   "metadata": {
    "collapsed": false,
    "pycharm": {
     "name": "#%%\n"
    }
   }
  },
  {
   "cell_type": "code",
   "execution_count": 18,
   "id": "c87ece3d",
   "metadata": {},
   "outputs": [
    {
     "name": "stdout",
     "output_type": "stream",
     "text": [
      "3.164788\n"
     ]
    }
   ],
   "source": [
    "start_time = get_time()\n",
    "raw_tdf['txn_df_raw'].groupby('contact_id').sum()[['sales'] + ['redemptions']]\n",
    "end_time = get_time()\n",
    "\n",
    "print(get_time_diff(start_time, end_time))"
   ]
  },
  {
   "cell_type": "code",
   "execution_count": 19,
   "id": "102b12ce",
   "metadata": {},
   "outputs": [
    {
     "name": "stdout",
     "output_type": "stream",
     "text": [
      "0.13332\n"
     ]
    }
   ],
   "source": [
    "# Describes the dataframe columns and their types\n",
    "start_time = get_time()\n",
    "raw_pdf['txn_df_raw'].describe()\n",
    "end_time = get_time()\n",
    "\n",
    "print(get_time_diff(start_time, end_time))"
   ]
  },
  {
   "cell_type": "code",
   "execution_count": 20,
   "id": "f01a3c02",
   "metadata": {},
   "outputs": [
    {
     "name": "stdout",
     "output_type": "stream",
     "text": [
      "5.797104\n"
     ]
    }
   ],
   "source": [
    "# Describes the dataframe columns and their types\n",
    "start_time = get_time()\n",
    "raw_tdf['txn_df_raw'].describe()\n",
    "end_time = get_time()\n",
    "\n",
    "print(get_time_diff(start_time, end_time))"
   ]
  },
  {
   "cell_type": "code",
   "execution_count": 20,
   "id": "a07c8171",
   "metadata": {},
   "outputs": [
    {
     "name": "stdout",
     "output_type": "stream",
     "text": [
      "0.0\n"
     ]
    }
   ],
   "source": [
    "# Count of rows\n",
    "start_time = get_time()\n",
    "txn_pdf.index.size\n",
    "end_time = get_time()\n",
    "\n",
    "print(get_time_diff(start_time, end_time))"
   ]
  },
  {
   "cell_type": "code",
   "execution_count": 21,
   "id": "d3380e97",
   "metadata": {},
   "outputs": [
    {
     "name": "stdout",
     "output_type": "stream",
     "text": [
      "0.598509\n"
     ]
    }
   ],
   "source": [
    "# Count of rows\n",
    "start_time = get_time()\n",
    "txn_tdf.index.size\n",
    "end_time = get_time()\n",
    "\n",
    "print(get_time_diff(start_time, end_time))"
   ]
  },
  {
   "cell_type": "code",
   "execution_count": 22,
   "id": "0458510c",
   "metadata": {},
   "outputs": [
    {
     "name": "stdout",
     "output_type": "stream",
     "text": [
      "1.625492\n"
     ]
    }
   ],
   "source": [
    "# Sort by ticker\n",
    "start_time = get_time()\n",
    "txn_pdf.sort_values(by = 'product_id')\n",
    "end_time = get_time()\n",
    "\n",
    "print(get_time_diff(start_time, end_time))\n"
   ]
  },
  {
   "cell_type": "code",
   "execution_count": 23,
   "id": "eb196bad",
   "metadata": {},
   "outputs": [
    {
     "name": "stdout",
     "output_type": "stream",
     "text": [
      "5.210178\n"
     ]
    }
   ],
   "source": [
    "# Sort by ticker\n",
    "start_time = get_time()\n",
    "txn_tdf.sort_values(by = 'product_id')\n",
    "end_time = get_time()\n",
    "\n",
    "print(get_time_diff(start_time, end_time))\n"
   ]
  },
  {
   "cell_type": "code",
   "execution_count": 24,
   "id": "14d1427b",
   "metadata": {},
   "outputs": [
    {
     "name": "stdout",
     "output_type": "stream",
     "text": [
      "0.0\n"
     ]
    }
   ],
   "source": [
    "# Slicing\n",
    "start_time = get_time()\n",
    "txn_pdf[113:211]\n",
    "end_time = get_time()\n",
    "\n",
    "print(get_time_diff(start_time, end_time))\n"
   ]
  },
  {
   "cell_type": "code",
   "execution_count": 25,
   "id": "f55e2548",
   "metadata": {},
   "outputs": [
    {
     "name": "stdout",
     "output_type": "stream",
     "text": [
      "0.952517\n"
     ]
    }
   ],
   "source": [
    "# Slicing\n",
    "start_time = get_time()\n",
    "txn_tdf[113:211]\n",
    "end_time = get_time()\n",
    "\n",
    "print(get_time_diff(start_time, end_time))\n"
   ]
  },
  {
   "cell_type": "code",
   "execution_count": 26,
   "id": "65a9a389",
   "metadata": {},
   "outputs": [
    {
     "name": "stdout",
     "output_type": "stream",
     "text": [
      "0.025832\n"
     ]
    }
   ],
   "source": [
    "# Selecting a single row\n",
    "start_time = get_time()\n",
    "txn_pdf[txn_pdf['txn_id'] == 423603758]\n",
    "end_time = get_time()\n",
    "\n",
    "print(get_time_diff(start_time, end_time))\n"
   ]
  },
  {
   "cell_type": "code",
   "execution_count": 27,
   "outputs": [
    {
     "name": "stdout",
     "output_type": "stream",
     "text": [
      "2.750294\n"
     ]
    }
   ],
   "source": [
    "# Selecting a single row\n",
    "start_time = get_time()\n",
    "txn_tdf[txn_tdf['txn_id'] == 423603758]\n",
    "end_time = get_time()\n",
    "\n",
    "print(get_time_diff(start_time, end_time))\n"
   ],
   "metadata": {
    "collapsed": false,
    "pycharm": {
     "name": "#%%\n"
    }
   }
  },
  {
   "cell_type": "code",
   "execution_count": 28,
   "id": "fd43772b",
   "metadata": {},
   "outputs": [
    {
     "name": "stdout",
     "output_type": "stream",
     "text": [
      "0.086713\n"
     ]
    }
   ],
   "source": [
    "#filters\n",
    "start_time = get_time()\n",
    "txn_pdf[txn_pdf['product_id'].isin(['FPHAX', 'VSIAX', 'PRNHX', 'FKTFX', 'VEIEX'])]\n",
    "end_time = get_time()\n",
    "\n",
    "print(get_time_diff(start_time, end_time))\n"
   ]
  },
  {
   "cell_type": "code",
   "execution_count": 29,
   "id": "33af3067",
   "metadata": {},
   "outputs": [
    {
     "name": "stdout",
     "output_type": "stream",
     "text": [
      "2.891353\n"
     ]
    }
   ],
   "source": [
    "#filters\n",
    "start_time = get_time()\n",
    "txn_tdf[txn_tdf['product_id'].isin(['FPHAX', 'VSIAX', 'PRNHX', 'FKTFX', 'VEIEX'])]\n",
    "end_time = get_time()\n",
    "\n",
    "print(get_time_diff(start_time, end_time))\n"
   ]
  },
  {
   "cell_type": "code",
   "execution_count": null,
   "id": "dc0f4a87",
   "metadata": {},
   "outputs": [],
   "source": [
    "txn_df1 = txn_df[0:5]\n",
    "#txn_df1\n",
    "type(txn_df1)\n",
    "\n",
    "#txn_df1.head()\n",
    "\n",
    "#txn_df2 = txn_df[6:10]\n",
    "#txn_df3 = txn_df[11:15]\n",
    "\n",
    "#txn_df123 = pd.concat(txn_df1,txn_df2,txn_df3)"
   ]
  },
  {
   "cell_type": "code",
   "execution_count": null,
   "id": "66e2657f",
   "metadata": {},
   "outputs": [],
   "source": [
    "cc_df = pd.merge(contact_df,customer_df, on = 'customer_id')\n",
    "cc_df.head()"
   ]
  },
  {
   "cell_type": "code",
   "execution_count": null,
   "id": "e6c55663",
   "metadata": {},
   "outputs": [],
   "source": [
    "product_df1 = product_df.groupby(['market_cap']).sum()['tna']\n",
    "product_df1.head()"
   ]
  },
  {
   "cell_type": "code",
   "execution_count": null,
   "id": "8dba01db",
   "metadata": {},
   "outputs": [],
   "source": [
    "product_df1 = product_df.groupby(['market_cap','exp_ratio']).sum()['tna']\n",
    "product_df1"
   ]
  },
  {
   "cell_type": "code",
   "execution_count": null,
   "id": "0ac64730",
   "metadata": {
    "scrolled": true
   },
   "outputs": [],
   "source": [
    "#joins 2 dfs on a the mentioned index\n",
    "joint_df = contact_df.set_index('customer_id').join(customer_df.set_index('customer_id'), how = 'inner')\n",
    "\n",
    "joint_df.head()\n"
   ]
  },
  {
   "cell_type": "code",
   "execution_count": null,
   "id": "b6176a2b",
   "metadata": {},
   "outputs": [],
   "source": [
    "\n",
    "joint_df = customer_df.set_index('customer_id').join(contact_df.set_index('customer_id'), how = 'left')\n",
    "\n",
    "joint_df.count()\n"
   ]
  },
  {
   "cell_type": "code",
   "execution_count": null,
   "id": "3e868805",
   "metadata": {},
   "outputs": [],
   "source": [
    "#not specifying how gives inner join\n",
    "#Txn by ms_rating\n",
    "txn_product_df = txn_df.set_index('ticker').join(product_df.set_index('ticker'))\n",
    "txn_product_df.head()\n",
    "\n",
    "txn_product_df1 = txn_product_df[['ms_rating','txn_amount']]\n",
    "txn_product_df2 = txn_product_df1.groupby('ms_rating').sum()['txn_amount']\n",
    "txn_product_df2.head()\n",
    "\n"
   ]
  },
  {
   "cell_type": "code",
   "execution_count": null,
   "id": "53b93432",
   "metadata": {},
   "outputs": [],
   "source": [
    "#Contact Id based txns\n",
    "txn_contact_df = txn_df.set_index('contact_id').join(contact_df.set_index('contact_id'))\n",
    "txn_contact_df.head()\n",
    "\n",
    "txn_contact_df1 = txn_contact_df['txn_amount']\n",
    "txn_contact_df1.head()\n",
    "#txn_contact_df2 = txn_contact_df1.groupby(txn_contact_df1.index).sum()\n",
    "#txn_contact_df2.head()"
   ]
  }
 ],
 "metadata": {
  "kernelspec": {
   "display_name": "Python 3 (ipykernel)",
   "language": "python",
   "name": "python3"
  },
  "language_info": {
   "codemirror_mode": {
    "name": "ipython",
    "version": 3
   },
   "file_extension": ".py",
   "mimetype": "text/x-python",
   "name": "python",
   "nbconvert_exporter": "python",
   "pygments_lexer": "ipython3",
   "version": "3.9.7"
  }
 },
 "nbformat": 4,
 "nbformat_minor": 5
}